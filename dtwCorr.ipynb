{
 "cells": [
  {
   "cell_type": "markdown",
   "metadata": {},
   "source": [
    "# <center>**DTW Match: correlation threshold method**</center>      "
   ]
  },
  {
   "cell_type": "code",
   "execution_count": 1,
   "metadata": {},
   "outputs": [],
   "source": [
    "import pandas as pd\n",
    "import numpy as np\n",
    "import warnings\n",
    "import gc\n",
    "import os \n",
    "import sys\n",
    "from IPython.core.interactiveshell import  InteractiveShell\n",
    "pd.set_option('max.rows',200)\n",
    "pd.set_option('max.columns',100)\n",
    "warnings.filterwarnings('ignore')\n",
    "InteractiveShell.ast_node_interactivity = \"all\""
   ]
  },
  {
   "cell_type": "code",
   "execution_count": 2,
   "metadata": {},
   "outputs": [],
   "source": [
    "from tqdm import tqdm"
   ]
  },
  {
   "cell_type": "code",
   "execution_count": 3,
   "metadata": {},
   "outputs": [],
   "source": [
    "import matplotlib.pyplot as plt\n",
    "import seaborn as sns\n",
    "cm = sns.light_palette('blue',as_cmap=True)\n",
    "sns.set_style(\"whitegrid\", {'axes.grid' : False})\n",
    "sns.mpl.rcParams['figure.figsize'] = (8.0, 4.0)"
   ]
  },
  {
   "cell_type": "markdown",
   "metadata": {},
   "source": [
    "#### **Index data (new)**    "
   ]
  },
  {
   "cell_type": "code",
   "execution_count": 4,
   "metadata": {},
   "outputs": [],
   "source": [
    "data = pd.read_pickle('..//data//data.pkl')\n",
    "date_list = data.index.tolist() "
   ]
  },
  {
   "cell_type": "markdown",
   "metadata": {},
   "source": [
    "## **Ⅰ Calculate DTW Match Correlation**                "
   ]
  },
  {
   "cell_type": "code",
   "execution_count": 5,
   "metadata": {},
   "outputs": [],
   "source": [
    "from DTW import DynamicTimeWrapper"
   ]
  },
  {
   "cell_type": "code",
   "execution_count": 6,
   "metadata": {},
   "outputs": [],
   "source": [
    "def industryRollingMatch(data,split_date,target_len,match_len,method:'normalization method'):\n",
    "    '''\n",
    "    rolling match results by industry \n",
    "    '''\n",
    "    \n",
    "    test_data = data[data.index>split_date]\n",
    "    match_record = {\n",
    "        'asset':[],\n",
    "        'test_start':[],\n",
    "        'test_end':[],\n",
    "        'train_start':[],\n",
    "        'train_end':[],\n",
    "        'corr':[],\n",
    "    }\n",
    "    \n",
    "    for test_index in tqdm(range(0,len(test_data),target_len)[:-1]):\n",
    "        # test data \n",
    "        test_start = test_data.index[test_index] \n",
    "        test_end = test_data.index[test_index+target_len] \n",
    "        test = data[test_start:test_end] \n",
    "        # normalize\n",
    "        if method == 'median':\n",
    "            test /= np.median(test,axis=0)\n",
    "        elif method == 'mean':\n",
    "            test /= np.mean(test,axis=0)\n",
    "        # train data\n",
    "        train_data = data[:test_start]\n",
    "        \n",
    "        for train_index in range(0,len(train_data),match_len)[:-1]:\n",
    "            # train data \n",
    "            train_start = train_data.index[train_index]\n",
    "            train_end = train_data.index[train_index+match_len] \n",
    "            train = train_data[train_start:train_end]\n",
    "            # normalize \n",
    "            if method == 'median':\n",
    "                train /= np.median(train,0)\n",
    "            elif method == 'mean':\n",
    "                train /= np.mean(train,0)                   \n",
    "            \n",
    "            for asset in data.columns:\n",
    "                dtw = DynamicTimeWrapper(train[asset],test[asset])\n",
    "                corr = dtw.DTWMatchCorr()\n",
    "                # record \n",
    "                match_record['asset'].append(asset) \n",
    "                match_record['test_start'].append(test_start)\n",
    "                match_record['test_end'].append(test_end)\n",
    "                match_record['train_start'].append(train_start)\n",
    "                match_record['train_end'].append(train_end)\n",
    "                match_record['corr'].append(corr)\n",
    "    \n",
    "    return match_record "
   ]
  },
  {
   "cell_type": "code",
   "execution_count": 7,
   "metadata": {},
   "outputs": [],
   "source": [
    "split = '2016-01-01'       \n",
    "target_len = 20 "
   ]
  },
  {
   "cell_type": "markdown",
   "metadata": {},
   "source": [
    "### **Ⅰ-①: median normalization method**      "
   ]
  },
  {
   "cell_type": "markdown",
   "metadata": {},
   "source": [
    "#### **1. historical period length: 20 days**      "
   ]
  },
  {
   "cell_type": "code",
   "execution_count": 10,
   "metadata": {},
   "outputs": [
    {
     "name": "stderr",
     "output_type": "stream",
     "text": [
      "100%|█████████████████████████████████| 60/60 [2:02:57<00:00, 122.96s/it]"
     ]
    },
    {
     "name": "stdout",
     "output_type": "stream",
     "text": [
      "Wall time: 2h 2min 57s\n"
     ]
    },
    {
     "name": "stderr",
     "output_type": "stream",
     "text": [
      "\n"
     ]
    }
   ],
   "source": [
    "%%time \n",
    "match_len = 20 \n",
    "match_record = industryRollingMatch(data,split,target_len,match_len)"
   ]
  },
  {
   "cell_type": "code",
   "execution_count": 11,
   "metadata": {},
   "outputs": [],
   "source": [
    "match_record = pd.DataFrame(match_record)\n",
    "match_record.to_pickle('..//result//corr_by_industry_20')"
   ]
  },
  {
   "cell_type": "markdown",
   "metadata": {},
   "source": [
    "#### **2. historical period length: 30 days**    "
   ]
  },
  {
   "cell_type": "code",
   "execution_count": 8,
   "metadata": {},
   "outputs": [
    {
     "name": "stderr",
     "output_type": "stream",
     "text": [
      "100%|█████████████████████████████████| 60/60 [6:24:58<00:00, 384.97s/it]\n"
     ]
    },
    {
     "name": "stdout",
     "output_type": "stream",
     "text": [
      "Wall time: 6h 24min 58s\n"
     ]
    }
   ],
   "source": [
    "%%time \n",
    "match_len = 30 \n",
    "match_record_30 = industryRollingMatch(data,split,target_len,match_len)\n",
    "match_record_30 = pd.DataFrame(match_record_30)\n",
    "match_record_30.to_pickle('..//result//corr_median_30')"
   ]
  },
  {
   "cell_type": "markdown",
   "metadata": {},
   "source": [
    "#### **3. historical period length: 40 days**  "
   ]
  },
  {
   "cell_type": "code",
   "execution_count": 9,
   "metadata": {},
   "outputs": [
    {
     "name": "stderr",
     "output_type": "stream",
     "text": [
      "100%|██████████████████████████████████| 60/60 [1:21:28<00:00, 81.47s/it]"
     ]
    },
    {
     "name": "stdout",
     "output_type": "stream",
     "text": [
      "Wall time: 1h 21min 28s\n"
     ]
    },
    {
     "name": "stderr",
     "output_type": "stream",
     "text": [
      "\n"
     ]
    }
   ],
   "source": [
    "%%time \n",
    "match_len = 40 \n",
    "match_record_40 = industryRollingMatch(data,split,target_len,match_len)\n",
    "match_record_40 = pd.DataFrame(match_record_40)\n",
    "match_record_40.to_pickle('..//result//corr_median_40')"
   ]
  },
  {
   "cell_type": "markdown",
   "metadata": {},
   "source": [
    "### **Ⅱ-② mean normalization method**        "
   ]
  },
  {
   "cell_type": "markdown",
   "metadata": {},
   "source": [
    "#### **1. historical period length: 20 days** "
   ]
  },
  {
   "cell_type": "code",
   "execution_count": 8,
   "metadata": {},
   "outputs": [
    {
     "name": "stderr",
     "output_type": "stream",
     "text": [
      "100%|█████████████████████████████████| 60/60 [6:28:44<00:00, 388.74s/it]"
     ]
    },
    {
     "name": "stdout",
     "output_type": "stream",
     "text": [
      "Wall time: 6h 28min 44s\n"
     ]
    },
    {
     "name": "stderr",
     "output_type": "stream",
     "text": [
      "\n"
     ]
    }
   ],
   "source": [
    "%%time \n",
    "match_len = 20 \n",
    "match_record = industryRollingMatch(data,split,target_len,match_len)\n",
    "match_record = pd.DataFrame(match_record)\n",
    "match_record.to_pickle('..//result//corr_mean_20')"
   ]
  },
  {
   "cell_type": "markdown",
   "metadata": {},
   "source": [
    "#### **2. historical period length: 30 days** "
   ]
  },
  {
   "cell_type": "code",
   "execution_count": 10,
   "metadata": {},
   "outputs": [
    {
     "name": "stderr",
     "output_type": "stream",
     "text": [
      "100%|█████████████████████████████████| 60/60 [2:00:21<00:00, 120.36s/it]"
     ]
    },
    {
     "name": "stdout",
     "output_type": "stream",
     "text": [
      "Wall time: 2h 21s\n"
     ]
    },
    {
     "name": "stderr",
     "output_type": "stream",
     "text": [
      "\n"
     ]
    }
   ],
   "source": [
    "%%time \n",
    "match_len = 30 \n",
    "match_record_30 = industryRollingMatch(data,split,target_len,match_len)\n",
    "match_record_30 = pd.DataFrame(match_record_30)\n",
    "match_record_30.to_pickle('..//result//corr_mean_30')"
   ]
  },
  {
   "cell_type": "markdown",
   "metadata": {},
   "source": [
    "#### **3. historical period length: 40 days**  "
   ]
  },
  {
   "cell_type": "code",
   "execution_count": 11,
   "metadata": {},
   "outputs": [
    {
     "name": "stderr",
     "output_type": "stream",
     "text": [
      "100%|██████████████████████████████████| 60/60 [1:18:07<00:00, 78.12s/it]"
     ]
    },
    {
     "name": "stdout",
     "output_type": "stream",
     "text": [
      "Wall time: 1h 18min 7s\n"
     ]
    },
    {
     "name": "stderr",
     "output_type": "stream",
     "text": [
      "\n"
     ]
    }
   ],
   "source": [
    "%%time\n",
    "match_len = 40 \n",
    "match_record_40 = industryRollingMatch(data,split,target_len,match_len)\n",
    "match_record_40 = pd.DataFrame(match_record_40)\n",
    "match_record_40.to_pickle('..//result//corr_mean_40')"
   ]
  },
  {
   "cell_type": "code",
   "execution_count": null,
   "metadata": {},
   "outputs": [],
   "source": []
  },
  {
   "cell_type": "code",
   "execution_count": null,
   "metadata": {},
   "outputs": [],
   "source": []
  },
  {
   "cell_type": "code",
   "execution_count": null,
   "metadata": {},
   "outputs": [],
   "source": []
  },
  {
   "cell_type": "code",
   "execution_count": null,
   "metadata": {},
   "outputs": [],
   "source": []
  }
 ],
 "metadata": {
  "kernelspec": {
   "display_name": "Python 3",
   "language": "python",
   "name": "python3"
  },
  "language_info": {
   "codemirror_mode": {
    "name": "ipython",
    "version": 3
   },
   "file_extension": ".py",
   "mimetype": "text/x-python",
   "name": "python",
   "nbconvert_exporter": "python",
   "pygments_lexer": "ipython3",
   "version": "3.7.4"
  }
 },
 "nbformat": 4,
 "nbformat_minor": 4
}
